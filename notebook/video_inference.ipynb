{
 "metadata": {
  "language_info": {
   "codemirror_mode": {
    "name": "ipython",
    "version": 3
   },
   "file_extension": ".py",
   "mimetype": "text/x-python",
   "name": "python",
   "nbconvert_exporter": "python",
   "pygments_lexer": "ipython3",
   "version": "3.7.6-final"
  },
  "orig_nbformat": 2,
  "kernelspec": {
   "name": "Python 3.7.6 64-bit ('video_classification': pipenv)",
   "display_name": "Python 3.7.6 64-bit ('video_classification': pipenv)",
   "metadata": {
    "interpreter": {
     "hash": "74f10dfdac3e170e2bd090df17080ecff76033add1af3b22e70fa60a3b8b94f3"
    }
   }
  }
 },
 "nbformat": 4,
 "nbformat_minor": 2,
 "cells": [
  {
   "cell_type": "code",
   "execution_count": 1,
   "metadata": {
    "tags": []
   },
   "outputs": [
    {
     "output_type": "stream",
     "name": "stdout",
     "text": [
      "/home/donny/video_classification\n"
     ]
    }
   ],
   "source": [
    "%cd /home/donny/video_classification/"
   ]
  },
  {
   "cell_type": "code",
   "execution_count": 2,
   "metadata": {},
   "outputs": [],
   "source": [
    "import os\n",
    "import logging\n",
    "import json\n",
    "import torch\n",
    "from matplotlib import pyplot as plt\n",
    "import seaborn as sns\n",
    "import numpy as np\n",
    "import cv2\n",
    "import tqdm\n",
    "from sklearn.metrics import confusion_matrix, classification_report, mean_absolute_error\n",
    "\n",
    "from action_recognition.experiment.config import WandbConfig\n",
    "from action_recognition.evaluate.evaluate_video import start_inferencing, fn2outfn, load_fine_annot\n",
    "from action_recognition.datasets.video_annotation_dataset import read_annotations\n",
    "\n",
    "logging.basicConfig(level=logging.INFO)"
   ]
  },
  {
   "cell_type": "code",
   "execution_count": 3,
   "metadata": {},
   "outputs": [],
   "source": [
    "video_paths = [\n",
    "    ('data/mouse_video/20190814/V_20190814_134337_OC0_c0.mp4', '2rde0ddy', 'a3gryeq6', '3t739td2', '114nzofm', '25v2nlrs', '3crs2xcr'),  # 0\n",
    "    # ('data/mouse_video/20190906/V_20190906_123023_OC0_c0.mp4', 'l2mzft8q', '6i6zza7c', '2p49jz7y', '24r2keuu', '18yttzbt', '21y4c15h'),  # 1\n",
    "    # ('data/mouse_video/20190906/V_20190906_123023_OC0_c1.mp4', '1ist6nhz', '2mm706ka', '1p7q2enf', 'pbp3db4b', '3lrrwzr4', '2oumot5a'),  # 2\n",
    "    # ('data/mouse_video/20190917/V_20190917_124903_OC0_c0.mp4', 'rw815hps', '138hzuu4', '1a90abbt', '2hrki5cj', '3oas0xfo', '3n3db90n'),  # 3\n",
    "    # ('data/mouse_video/20190917/V_20190917_124903_OC0_c2.mp4', 'ovoyjcx6', '2jsuyqrf', '21n0m1c2', '1zv4m9y6', '20udas4r', '1jinxthk'),  # 4\n",
    "    # ('data/mouse_video/20190917/V_20190917_124903_OC0_c3.mp4', 'pog9nxuz', '6pd6lugv', 'atoycpqm', '2pdzvfpb', '2lmxand7', '24j30x41'),  # 5\n",
    "    # ('data/mouse_video/20190919/V_20190919_134212_OC0_c0.mp4', 'v502fsm2', '25303eo8', '15poo2gb', '39xx0mn0', '2fzaldtp', '3vluaurl'),  # 6\n",
    "    # ('data/mouse_video/20190919/V_20190919_134212_OC0_c1.mp4', '2mnxfyf9', 'zcqqgkat', '3fn7a708', '1vse5sl5', '3d9g5221', '1l3mel8c'),  # 7\n",
    "    # ('data/mouse_video/20190919/V_20190919_134212_OC0_c2.mp4', '37iiuecu', '2jzmcfoh', '3aaz2qhl', '25yd68le', 'xm3vgehq', '15wek0v2'),  # 8\n",
    "    ('data/mouse_video/20190919/V_20190919_134212_OC0_c3.mp4', '104u3l9o', '3edvhvwf', '1g5728fb', '2yzzmjyj', '16rxlt0t', '1upg15gr'),  # 9\n",
    "]  # I3D, balancevid, mixclip, mixclip_balancevid, 10vid, logweight_balancevid\n",
    "# model_id = '10dwpg3x'\n",
    "# model_artifact_name = f\"run_{model_id}_model\"\n",
    "\n",
    "fns = [[p] + [fn2outfn(p, f\"run_{mid}_model\") for mid in model_id] for p, *model_id in video_paths]\n"
   ]
  },
  {
   "cell_type": "code",
   "execution_count": 6,
   "metadata": {
    "tags": []
   },
   "outputs": [
    {
     "output_type": "stream",
     "name": "stdout",
     "text": [
      "\n",
      "len: 24566 name: data/mouse_video/20190814/V_20190814_134337_OC0_c0.mp4\n",
      "100%|██████████| 24566/24566 [01:30<00:00, 270.49it/s]\n",
      "\n",
      "len: 58961 name: data/mouse_video/20190919/V_20190919_134212_OC0_c3.mp4\n",
      "100%|██████████| 58961/58961 [03:13<00:00, 304.03it/s]\n"
     ]
    }
   ],
   "source": [
    "# o1, o2, gts, weight = [], [], [], []\n",
    "# all_d, all_gt = [], []\n",
    "for fn, *outfns in fns:\n",
    "    data = []\n",
    "    for outfn in [outfns[4]]:\n",
    "        d = torch.stack(torch.load(outfn))[:, :2]\n",
    "        d = torch.nn.functional.softmax(d, dim=1)  # [L, 2]\n",
    "        d = torch.nn.functional.pad(d.T.view(2, 1, -1), (4, 0), 'constant', 0)\n",
    "        d = torch.nn.functional.avg_pool1d(d, 5, stride=1).squeeze(1).T\n",
    "        d = (d >= 0.8).float()  # [L, 2]\n",
    "        data.append(torch.cat([torch.zeros((15, 1)), d[:, :1]]).float())\n",
    "    print(\"\\nlen:\", data[0].shape[0], \"name:\", fn)\n",
    "\n",
    "    # anno = load_annot(fn)\n",
    "    anno = load_fine_annot(fn)\n",
    "    gt = torch.zeros(data[0].shape[0], 1)\n",
    "    for s, e in anno:\n",
    "        gt[s:e] = 1\n",
    "    \n",
    "    cap = cv2.VideoCapture(fn)\n",
    "    total = cap.get(cv2.CAP_PROP_FRAME_COUNT)\n",
    "    pbar = tqdm.tqdm(total=int(total))\n",
    "    \n",
    "    size = int(cap.get(cv2.CAP_PROP_FRAME_WIDTH)), int(cap.get(cv2.CAP_PROP_FRAME_HEIGHT))\n",
    "    out = cv2.VideoWriter(os.path.basename(fn), int(cap.get(cv2.CAP_PROP_FOURCC)), cap.get(cv2.CAP_PROP_FPS), size)\n",
    "\n",
    "    while cap.isOpened():\n",
    "        ret, frame = cap.read()\n",
    "        if ret:\n",
    "            md_pred = 'V' if data[0][pbar.n].item() == 1 else 'X'\n",
    "            gt_pred = 'V' if gt[pbar.n].item() == 1 else 'X'\n",
    "            text = f'model: {md_pred}'\n",
    "            cv2.putText(frame, text, (10, 30), cv2.FONT_HERSHEY_PLAIN, 2, (0, 255, 255), 1, cv2.LINE_AA)\n",
    "            text = f'truth: {gt_pred}'\n",
    "            cv2.putText(frame, text, (10, 60), cv2.FONT_HERSHEY_PLAIN, 2, (0, 255, 255), 1, cv2.LINE_AA)\n",
    "            out.write(frame)\n",
    "            pbar.update(1)\n",
    "        else:\n",
    "            break\n",
    "\n",
    "    pbar.close()\n",
    "    cap.release()\n",
    "    out.release()   "
   ]
  },
  {
   "cell_type": "code",
   "execution_count": 5,
   "metadata": {},
   "outputs": [
    {
     "output_type": "stream",
     "name": "stderr",
     "text": []
    }
   ],
   "source": [
    "\n",
    "pbar.close()\n",
    "cap.release()\n",
    "out.release()   "
   ]
  },
  {
   "cell_type": "code",
   "execution_count": null,
   "metadata": {},
   "outputs": [],
   "source": []
  }
 ]
}