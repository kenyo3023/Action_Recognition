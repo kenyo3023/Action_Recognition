{
 "cells": [
  {
   "cell_type": "code",
   "execution_count": 1,
   "metadata": {},
   "outputs": [
    {
     "output_type": "stream",
     "name": "stdout",
     "text": [
      "/home/donny/video_classification\n"
     ]
    }
   ],
   "source": [
    "%cd /home/donny/video_classification/"
   ]
  },
  {
   "cell_type": "code",
   "execution_count": 2,
   "metadata": {},
   "outputs": [],
   "source": [
    "import os\n",
    "from glob import glob\n",
    "\n",
    "import pandas as pd\n",
    "\n",
    "from action_recognition.datasets.preprocess import get_video_len\n",
    "from action_recognition.datasets.video_clip import Video_Frame_Clips"
   ]
  },
  {
   "cell_type": "code",
   "execution_count": 8,
   "metadata": {},
   "outputs": [
    {
     "output_type": "execute_result",
     "data": {
      "text/plain": [
       "Empty DataFrame\n",
       "Columns: [video_path, frame_dir, frame_cnt, actual_frame]\n",
       "Index: []"
      ],
      "text/html": "<div>\n<style scoped>\n    .dataframe tbody tr th:only-of-type {\n        vertical-align: middle;\n    }\n\n    .dataframe tbody tr th {\n        vertical-align: top;\n    }\n\n    .dataframe thead th {\n        text-align: right;\n    }\n</style>\n<table border=\"1\" class=\"dataframe\">\n  <thead>\n    <tr style=\"text-align: right;\">\n      <th></th>\n      <th>video_path</th>\n      <th>frame_dir</th>\n      <th>frame_cnt</th>\n      <th>actual_frame</th>\n    </tr>\n  </thead>\n  <tbody>\n  </tbody>\n</table>\n</div>"
     },
     "metadata": {},
     "execution_count": 8
    }
   ],
   "source": [
    "df = pd.DataFrame(glob('data/mouse_video/crop_preprocessed/**/*.mp4'), columns=['video_path'])\n",
    "df['frame_dir'] = df['video_path'].apply(lambda x: Video_Frame_Clips.vid2framedir(x))\n",
    "df['frame_cnt'] = df['frame_dir'].apply(lambda x: len(glob(x + '/*.jpg')))\n",
    "df['actual_frame'] = df['video_path'].apply(lambda x: get_video_len(x))\n",
    "df[df['actual_frame'] != df['frame_cnt']]\n"
   ]
  },
  {
   "cell_type": "code",
   "execution_count": 20,
   "metadata": {},
   "outputs": [
    {
     "data": {
      "text/plain": "videoB                   639\nvideo4                   386\n20080427184842           317\n20080420124815           292\nvideo5                   283\nagoutivideo320080229D    268\nagoutivideo320080229C    195\n20080421163754           187\n20080422174518E          168\n20080423115530A          161\n20080422174518G          151\n20080321154304           149\n20080424103236           142\n20080421175111           134\n20080324124437A          121\n20080322161942           115\nvideo12                  112\n20080422174518A          105\nvideo6                    99\nvideo13                   85\nvideo8                    84\nvideo7                    75\nName: video_id, dtype: int64"
     },
     "execution_count": 20,
     "metadata": {},
     "output_type": "execute_result"
    }
   ],
   "source": [
    "df['video_id'].value_counts()"
   ]
  },
  {
   "cell_type": "code",
   "execution_count": 22,
   "metadata": {},
   "outputs": [
    {
     "data": {
      "text/plain": "mpg    4268\nName: ext, dtype: int64"
     },
     "execution_count": 22,
     "metadata": {},
     "output_type": "execute_result"
    }
   ],
   "source": [
    "df['ext'].value_counts()"
   ]
  },
  {
   "cell_type": "code",
   "execution_count": null,
   "metadata": {},
   "outputs": [],
   "source": []
  }
 ],
 "metadata": {
  "kernelspec": {
   "display_name": "video_classification",
   "language": "python",
   "name": "video_classification"
  },
  "language_info": {
   "codemirror_mode": {
    "name": "ipython",
    "version": 3
   },
   "file_extension": ".py",
   "mimetype": "text/x-python",
   "name": "python",
   "nbconvert_exporter": "python",
   "pygments_lexer": "ipython3",
   "version": "3.7.6-final"
  }
 },
 "nbformat": 4,
 "nbformat_minor": 4
}